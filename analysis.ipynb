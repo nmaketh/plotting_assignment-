{
 "cells": [
  {
   "cell_type": "code",
   "execution_count": null,
   "metadata": {
    "vscode": {
     "languageId": "plaintext"
    }
   },
   "outputs": [],
   "source": [
    "# Import necessary libraries\n",
    "import pandas as pd\n",
    "import matplotlib.pyplot as plt\n",
    "import seaborn as sns\n",
    "\n",
    "# Load the dataset\n",
    "file_path = r\"C:\\Users\\HP\\OneDrive\\Desktop\\transport_analysis\\fuel_econ.csv\"\n",
    "data = pd.read_csv(file_path)\n",
    "\n",
    "# Display a preview of the data\n",
    "print(\"Preview of the data:\")\n",
    "data.head(10)\n",
    "\n",
    "# Check for numerical columns\n",
    "data.columns\n",
    "\n",
    "# Histogram for combined fuel efficiency (comb08)\n",
    "plt.figure(figsize=(10, 6))\n",
    "plt.hist(data['comb08'], bins=15, color='skyblue', edgecolor='black')\n",
    "plt.title('Distribution of Combined Fuel Efficiency (mpg)')\n",
    "plt.xlabel('Combined Fuel Efficiency (mpg)')\n",
    "plt.ylabel('Frequency')\n",
    "plt.grid(axis='y', linestyle='--', alpha=0.7)\n",
    "plt.tight_layout()\n",
    "plt.savefig('hist_comb08.png')  # Save the plot as PNG\n",
    "plt.show()\n",
    "\n",
    "# Correlation heatmap for numerical columns\n",
    "numerical_cols = ['cylinders', 'city', 'UCity', 'highway', 'UHighway', 'comb08', 'UComb', 'displ']\n",
    "correlation_matrix = data[numerical_cols].corr()\n",
    "\n",
    "plt.figure(figsize=(10, 8))\n",
    "sns.heatmap(correlation_matrix, annot=True, cmap='coolwarm', fmt=\".2f\", linewidths=0.5)\n",
    "plt.title('Correlation Heatmap of Numerical Features')\n",
    "plt.tight_layout()\n",
    "plt.savefig('heatmap.png')  # Save the plot as PNG\n",
    "plt.show()\n",
    "\n",
    "# Add text interpretations in a Markdown cell:\n",
    "\"\"\"\n",
    "## Interpretations:\n",
    "1. Histogram:\n",
    "   - The histogram shows the distribution of combined fuel efficiency (comb08) across vehicles.\n",
    "   - Peaks indicate ranges where most vehicles fall in terms of fuel efficiency.\n",
    "   - This can help identify typical fuel efficiency for vehicles in the dataset.\n",
    "\n",
    "2. Heatmap:\n",
    "   - The heatmap displays correlations between numerical features.\n",
    "   - Strong correlations (close to 1 or -1) are highlighted.\n",
    "   - For example, 'UCity' and 'UComb' might show a strong positive correlation because both represent adjusted mpg values.\n",
    "\"\"\"\n"
   ]
  }
 ],
 "metadata": {
  "language_info": {
   "name": "python"
  }
 },
 "nbformat": 4,
 "nbformat_minor": 2
}
